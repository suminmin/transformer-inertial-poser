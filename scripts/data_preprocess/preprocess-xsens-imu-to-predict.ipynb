{
 "cells": [
  {
   "cell_type": "code",
   "execution_count": 10,
   "id": "missing-lawsuit",
   "metadata": {},
   "outputs": [],
   "source": [
    "import sys\n",
    "sys.path.append(\"../../\")"
   ]
  },
  {
   "cell_type": "code",
   "execution_count": 11,
   "id": "dramatic-google",
   "metadata": {},
   "outputs": [],
   "source": [
    "from scipy.signal import find_peaks\n",
    "import librosa\n",
    "import os.path\n",
    "import pickle as pkl\n",
    "import json\n",
    "\n",
    "sys.path.append(\"./dependencies/hps\")\n",
    "sys.path.append(\"./dependencies/hps/preprocess\")\n",
    "\n",
    "from xsens import mvnx\n",
    "from unity_functions import process_smpl_pose, process_smpl_trans"
   ]
  },
  {
   "cell_type": "code",
   "execution_count": 12,
   "id": "under-satisfaction",
   "metadata": {},
   "outputs": [],
   "source": [
    "import numpy as np"
   ]
  },
  {
   "cell_type": "code",
   "execution_count": 13,
   "id": "molecular-grill",
   "metadata": {},
   "outputs": [],
   "source": [
    "# mvnx_name = \"./SUB2_MPI_EG-001.mvnx\" # read error \n",
    "mvnx_name = \"./SUB5_MPI_GEB-002.mvnx\"\n",
    "\n",
    "basename = os.path.splitext( os.path.basename(mvnx_name) )[0]\n",
    "pose_txt_file = f\"{basename}_pose.txt\"\n",
    "trans_txt_file = f\"{basename}_trans.txt\"\n",
    "\n",
    "mvnx_data = mvnx.MVNX(mvnx_name)"
   ]
  },
  {
   "cell_type": "code",
   "execution_count": 14,
   "id": "disciplinary-shock",
   "metadata": {},
   "outputs": [
    {
     "data": {
      "text/plain": [
       "['acceleration',\n",
       " 'angularAcceleration',\n",
       " 'angularVelocity',\n",
       " 'centerOfMass',\n",
       " 'footContacts',\n",
       " 'jointAngle',\n",
       " 'jointAngleErgo',\n",
       " 'jointAngleErgoXZY',\n",
       " 'jointAngleXZY',\n",
       " 'orientation',\n",
       " 'position',\n",
       " 'sensorFreeAcceleration',\n",
       " 'sensorMagneticField',\n",
       " 'sensorOrientation',\n",
       " 'velocity']"
      ]
     },
     "execution_count": 14,
     "metadata": {},
     "output_type": "execute_result"
    }
   ],
   "source": [
    "len(mvnx_data.frames)\n",
    "mvnx_data.available_info"
   ]
  },
  {
   "cell_type": "code",
   "execution_count": 15,
   "id": "bibliographic-wisconsin",
   "metadata": {},
   "outputs": [
    {
     "data": {
      "text/plain": [
       "3687"
      ]
     },
     "execution_count": 15,
     "metadata": {},
     "output_type": "execute_result"
    }
   ],
   "source": [
    "mvnx_data.total_frames"
   ]
  },
  {
   "cell_type": "code",
   "execution_count": 16,
   "id": "complicated-recovery",
   "metadata": {},
   "outputs": [
    {
     "data": {
      "text/plain": [
       "(3687, untangle.Element, '2000', '1604149861413')"
      ]
     },
     "execution_count": 16,
     "metadata": {},
     "output_type": "execute_result"
    }
   ],
   "source": [
    "t = 0\n",
    "len(mvnx_data.frames), type(mvnx_data.frames[t]), mvnx_data.frames[t][\"time\"], mvnx_data.frames[t][\"ms\"]\n",
    "\n",
    "t = 60\n",
    "len(mvnx_data.frames), type(mvnx_data.frames[t]), mvnx_data.frames[t][\"time\"], mvnx_data.frames[t][\"ms\"]"
   ]
  },
  {
   "cell_type": "code",
   "execution_count": 17,
   "id": "patent-hopkins",
   "metadata": {},
   "outputs": [],
   "source": [
    "ms_times = [ int(frame[\"ms\"]) for frame in mvnx_data.frames ]"
   ]
  },
  {
   "cell_type": "code",
   "execution_count": 65,
   "id": "pleasant-explorer",
   "metadata": {},
   "outputs": [],
   "source": [
    "quat = mvnx_data.get_info(\"orientation\")"
   ]
  },
  {
   "cell_type": "code",
   "execution_count": 66,
   "id": "greatest-sleeve",
   "metadata": {},
   "outputs": [],
   "source": [
    "acc = mvnx_data.get_info(\"acceleration\")"
   ]
  },
  {
   "cell_type": "code",
   "execution_count": 69,
   "id": "global-immunology",
   "metadata": {},
   "outputs": [
    {
     "data": {
      "text/plain": [
       "({'pelvis': [0.146689, -0.141488, 0.00752, 0.978983],\n",
       "  'l5': [0.138053, -0.085788, -0.00034, 0.986702],\n",
       "  'l3': [0.133698, -0.010584, -0.010643, 0.990908],\n",
       "  't12': [0.129452, 0.01442, -0.01393, 0.991383],\n",
       "  't8': [-0.126882, 0.017345, 0.009942, -0.991716],\n",
       "  'neck': [-0.145733, 0.15478, -0.008888, -0.977101],\n",
       "  'head': [0.180519, -0.100569, -0.002003, 0.978414],\n",
       "  'right_shoulder': [0.140998, -0.06906, 0.06723, 0.985307],\n",
       "  'right_upper_arm': [0.050551, 0.186772, 0.643774, 0.740348],\n",
       "  'right_forearm': [-0.536922, 0.496165, 0.548569, 0.405719],\n",
       "  'right_hand': [0.57484, -0.614054, -0.525264, -0.128815],\n",
       "  'left_shoulder': [-0.134743, 0.059856, 0.074534, -0.986259],\n",
       "  'left_upper_arm': [-0.183973, 0.018805, 0.700855, -0.688914],\n",
       "  'left_forearm': [-0.468381, -0.442515, 0.739442, -0.195002],\n",
       "  'left_hand': [0.439298, 0.466427, -0.763038, 0.08506],\n",
       "  'right_upper_leg': [0.146245, 0.651969, -0.170531, 0.724202],\n",
       "  'right_lower_leg': [-0.206971, -0.352764, 0.090998, -0.907987],\n",
       "  'right_foot': [-0.115618, -0.077915, -0.078983, -0.987078],\n",
       "  'right_toe': [-0.115618, -0.077915, -0.078983, -0.987078],\n",
       "  'left_upper_leg': [0.123628, 0.679273, -0.131344, 0.711374],\n",
       "  'left_lower_leg': [0.167649, 0.320753, -0.06712, 0.929788],\n",
       "  'left_foot': [-0.209513, -0.013283, 0.071086, -0.975128],\n",
       "  'left_toe': [-0.209513, -0.013283, 0.071086, -0.975128]},\n",
       " {'pelvis': [-0.027614, -0.077507, -0.024843],\n",
       "  'l5': [-0.048186, -0.042872, -0.020027],\n",
       "  'l3': [-0.057329, -0.027478, -0.017887],\n",
       "  't12': [-0.066472, -0.012085, -0.015747],\n",
       "  't8': [-0.073329, -0.00054, -0.014142],\n",
       "  'neck': [-0.052872, -0.028047, 0.012583],\n",
       "  'head': [-0.01488, -0.079132, 0.062213],\n",
       "  'right_shoulder': [-0.036744, -0.008445, -0.04048],\n",
       "  'right_upper_arm': [0.017544, -0.058998, -0.091005],\n",
       "  'right_forearm': [-0.174948, 0.037203, -0.294269],\n",
       "  'right_hand': [-0.12938, 0.215016, -0.415699],\n",
       "  'left_shoulder': [-0.017067, -0.021642, -0.002224],\n",
       "  'left_upper_arm': [-0.073739, 0.104863, -0.100151],\n",
       "  'left_forearm': [-0.660917, 0.016755, -0.574396],\n",
       "  'left_hand': [-0.020349, -1.682618, 0.1129],\n",
       "  'right_upper_leg': [0.009555, 0.039181, 0.040617],\n",
       "  'right_lower_leg': [-0.016864, -0.040374, 0.011231],\n",
       "  'right_foot': [-0.006408, -0.028746, 0.004176],\n",
       "  'right_toe': [-0.006408, -0.028746, 0.004176],\n",
       "  'left_upper_leg': [-0.013933, -0.026331, -0.012096],\n",
       "  'left_lower_leg': [-0.039249, -0.027328, 0.009668],\n",
       "  'left_foot': [-0.02046, -0.002083, 0.005393],\n",
       "  'left_toe': [-0.02046, -0.002083, 0.005393]})"
      ]
     },
     "execution_count": 69,
     "metadata": {},
     "output_type": "execute_result"
    }
   ],
   "source": [
    "quat[0], acc[0]"
   ]
  },
  {
   "cell_type": "code",
   "execution_count": 7,
   "id": "satellite-nursery",
   "metadata": {},
   "outputs": [],
   "source": [
    "# https://github.com/jyf588/transformer-inertial-poser/blob/adef2489c927413228ed4137c8fc58e74b58fa11/data-gen-and-viz-bullet-new.py#L157\n",
    "\n",
    "#     if USE_KNEE_RATHER_ANKLE_IMU:\n",
    "#         imu_joints = [\n",
    "#             _info.root,\n",
    "#             _info.lwrist,\n",
    "#             _info.rwrist,\n",
    "#             _info.lknee,\n",
    "#             _info.rknee,\n",
    "#             _info.upperneck,\n",
    "#         ]\n",
    "#     else:\n",
    "#         imu_joints = [\n",
    "#             _info.root,\n",
    "#             _info.rankle,\n",
    "#             _info.lankle,\n",
    "#             _info.lwrist,\n",
    "#             _info.rwrist,\n",
    "#             _info.upperneck\n",
    "#         ]"
   ]
  },
  {
   "cell_type": "code",
   "execution_count": 72,
   "id": "rolled-battery",
   "metadata": {},
   "outputs": [],
   "source": [
    "# USE_KNEE_RATHER_ANKLE_IMU = True\n",
    "USE_KNEE_RATHER_ANKLE_IMU = False\n",
    "\n",
    "if USE_KNEE_RATHER_ANKLE_IMU:\n",
    "    SPARSE_JOINT_IMUS = [ \n",
    "        \"pelvis\", \n",
    "        \"left_forearm\", \n",
    "        \"right_forearm\",\n",
    "        \"left_upper_leg\", \n",
    "        \"right_upper_leg\",\n",
    "        \"head\"]\n",
    "else:\n",
    "    SPARSE_JOINT_IMUS = [ \n",
    "        \"pelvis\", \n",
    "        \"left_forearm\", \n",
    "        \"right_forearm\",\n",
    "        \"left_lower_leg\", \n",
    "        \"right_lower_leg\",\n",
    "        \"head\"]\n",
    "    \n",
    "def get_sparse_data(data):\n",
    "    sparse_data = []\n",
    "    for t,t_data in enumerate(data):\n",
    "        sparse_data.append( [ t_data[key] for key in SPARSE_JOINT_IMUS ] )\n",
    "    return np.asarray(sparse_data)"
   ]
  },
  {
   "cell_type": "code",
   "execution_count": 73,
   "id": "retained-surge",
   "metadata": {},
   "outputs": [],
   "source": [
    "sparse_quat = get_sparse_imu_data(quat)"
   ]
  },
  {
   "cell_type": "code",
   "execution_count": 74,
   "id": "therapeutic-argument",
   "metadata": {},
   "outputs": [],
   "source": [
    "sparse_acc = get_sparse_imu_data(acc)"
   ]
  },
  {
   "cell_type": "code",
   "execution_count": 76,
   "id": "automatic-bruce",
   "metadata": {},
   "outputs": [
    {
     "data": {
      "text/plain": [
       "(3687, 6, 7)"
      ]
     },
     "execution_count": 76,
     "metadata": {},
     "output_type": "execute_result"
    }
   ],
   "source": [
    "np.concatenate([sparse_quat, sparse_acc], axis=2).shape "
   ]
  },
  {
   "cell_type": "code",
   "execution_count": 10,
   "id": "frequent-discretion",
   "metadata": {},
   "outputs": [],
   "source": [
    "# necessary\n",
    "\n",
    "# initial pose : format -> amass_char_info ?\n",
    "#  get from smpl.txt in HPS\n",
    "\n",
    "poses = process_smpl_pose(pose_txt_file)\n",
    "trans = process_smpl_trans(trans_txt_file)"
   ]
  },
  {
   "cell_type": "code",
   "execution_count": 11,
   "id": "found-atlanta",
   "metadata": {},
   "outputs": [
    {
     "data": {
      "text/plain": [
       "((3683, 72), (3683, 3))"
      ]
     },
     "execution_count": 11,
     "metadata": {},
     "output_type": "execute_result"
    }
   ],
   "source": [
    "poses.shape, trans.shape"
   ]
  },
  {
   "cell_type": "code",
   "execution_count": 12,
   "id": "occupational-tooth",
   "metadata": {},
   "outputs": [],
   "source": [
    "#     from smplpytorch.pytorch.smpl_layer import SMPL_Layer\n",
    "\n",
    "#     def bake(imu_dict, TRANS):\n",
    "#         \"\"\"\n",
    "#         Bakes the imu dictionary by multiplying each pose and distance by the TRANS matrix\n",
    "#         :param imu_dict: the input imu dictionary\n",
    "#         :param TRANS: the transformation matrix\n",
    "#         :return: The transformed dictionary\n",
    "#         \"\"\"\n",
    "#         imu_poses = imu_dict['poses']\n",
    "#         imu_transes = imu_dict['transes']\n",
    "#         imu_transes_save = np.copy(imu_transes)\n",
    "#         for i in range(imu_poses.shape[0]):\n",
    "#             glob_or = imu_poses[i, :3]\n",
    "#             rot_matrix = R.from_rotvec(glob_or).as_matrix()\n",
    "#             new_glob = np.matmul(TRANS, rot_matrix)\n",
    "#             new_glob_ax = R.from_matrix(new_glob).as_rotvec()\n",
    "#             imu_poses[i, :3] = new_glob_ax\n",
    "\n",
    "#             trans = np.reshape(imu_transes[i], (3, 1))\n",
    "#             imu_transes_save[i] = np.reshape(np.matmul(TRANS, trans), (3,))\n",
    "\n",
    "#         ret_dict = {\n",
    "#                     'poses': imu_poses,\n",
    "#                     'transes': imu_transes_save\n",
    "#                     }\n",
    "\n",
    "#         return ret_dict"
   ]
  },
  {
   "cell_type": "code",
   "execution_count": 13,
   "id": "waiting-integer",
   "metadata": {},
   "outputs": [],
   "source": [
    "# MODEL_PATH = \"./smpl/models\"\n",
    "# # gender = \"neutral\" # doesn't exist\n",
    "# gender = \"male\"\n",
    "\n",
    "# smpl_layer = SMPL_Layer(\n",
    "#             center_idx=0,\n",
    "#             gender=gender,\n",
    "#             model_root=MODEL_PATH)"
   ]
  },
  {
   "cell_type": "code",
   "execution_count": 14,
   "id": "floppy-mambo",
   "metadata": {},
   "outputs": [],
   "source": [
    "import os\n",
    "\n",
    "filename = os.path.splitext( os.path.basename(mvnx_name) )[0]\n",
    "np.save(f\"sparse_acc--{filename}.npy\", sparse_acc)\n",
    "\n",
    "with open(\"sparse_acc-def.txt\", \"w\") as f:\n",
    "    f.write( \"\\n\".join(SPARSE_JOINT_IMUS) )"
   ]
  },
  {
   "cell_type": "code",
   "execution_count": 15,
   "id": "integrated-poison",
   "metadata": {},
   "outputs": [],
   "source": [
    "betas = np.zeros(16)\n",
    "\n",
    "motion_file = f\"smpl--{filename}.npz\"\n",
    "np.savez(motion_file, \n",
    "        poses=poses,\n",
    "        trans=trans,\n",
    "        betas=betas,\n",
    "        mocap_framerate=60)"
   ]
  },
  {
   "cell_type": "code",
   "execution_count": null,
   "id": "stable-initial",
   "metadata": {},
   "outputs": [],
   "source": []
  },
  {
   "cell_type": "code",
   "execution_count": 16,
   "id": "southern-feelings",
   "metadata": {},
   "outputs": [],
   "source": [
    "AMASS_data_filename = \"../../data/source/AMASS_CMU/01/01_01_poses.npz\"\n",
    "amass_data = np.load(AMASS_data_filename)"
   ]
  },
  {
   "cell_type": "code",
   "execution_count": 17,
   "id": "polyphonic-liability",
   "metadata": {},
   "outputs": [
    {
     "data": {
      "text/plain": [
       "['trans', 'gender', 'mocap_framerate', 'betas', 'dmpls', 'poses']"
      ]
     },
     "execution_count": 17,
     "metadata": {},
     "output_type": "execute_result"
    }
   ],
   "source": [
    "amass_data.files"
   ]
  },
  {
   "cell_type": "code",
   "execution_count": 18,
   "id": "korean-drilling",
   "metadata": {},
   "outputs": [
    {
     "data": {
      "text/plain": [
       "((2751, 156), (2751, 3), (16,))"
      ]
     },
     "execution_count": 18,
     "metadata": {},
     "output_type": "execute_result"
    }
   ],
   "source": [
    "amass_data[\"poses\"].shape, amass_data[\"trans\"].shape, amass_data[\"betas\"].shape"
   ]
  },
  {
   "cell_type": "code",
   "execution_count": 19,
   "id": "understood-mother",
   "metadata": {},
   "outputs": [],
   "source": [
    "from fairmotion.data import amass"
   ]
  },
  {
   "cell_type": "code",
   "execution_count": 20,
   "id": "medieval-sacramento",
   "metadata": {},
   "outputs": [],
   "source": [
    "motion = amass.load(file=motion_file, \n",
    "               bm_path=\"../../data/smplh/neutral/model.npz\", \n",
    "               model_type=\"smpl\")"
   ]
  },
  {
   "cell_type": "code",
   "execution_count": 21,
   "id": "physical-hobby",
   "metadata": {},
   "outputs": [],
   "source": [
    "import importlib.util\n",
    "from typing import List, Dict\n",
    "import random\n",
    "\n",
    "import pybullet as pb\n",
    "import pybullet_data\n",
    "from fairmotion.core.motion import Motion\n",
    "\n",
    "import bullet_client\n",
    "from bullet_agent import SimAgent\n",
    "import constants as cst"
   ]
  },
  {
   "cell_type": "code",
   "execution_count": 22,
   "id": "related-annual",
   "metadata": {},
   "outputs": [],
   "source": [
    "# !ls ../../"
   ]
  },
  {
   "cell_type": "code",
   "execution_count": 23,
   "id": "sunrise-nirvana",
   "metadata": {},
   "outputs": [],
   "source": [
    "# AMASS_URDF_FILE = \"data/amass.urdf\"\n",
    "AMASS_URDF_FILE = \"../../data/amass.urdf\""
   ]
  },
  {
   "cell_type": "code",
   "execution_count": 24,
   "id": "discrete-marina",
   "metadata": {},
   "outputs": [],
   "source": [
    "spec = importlib.util.spec_from_file_location(\n",
    "    \"char_info\", \"../../amass_char_info.py\")\n",
    "char_info = importlib.util.module_from_spec(spec)\n",
    "spec.loader.exec_module(char_info)"
   ]
  },
  {
   "cell_type": "code",
   "execution_count": 25,
   "id": "extensive-minutes",
   "metadata": {},
   "outputs": [
    {
     "name": "stdout",
     "output_type": "stream",
     "text": [
      "[SimAgent] Creating an agent... ../../data/amass.urdf\n"
     ]
    }
   ],
   "source": [
    "        h = cst.NOMINAL_H * random.uniform(0.9, 1.1)\n",
    "\n",
    "        Mode = pb.DIRECT\n",
    "        pb_client = bullet_client.BulletClient(\n",
    "            connection_mode=Mode)\n",
    "        pb_client.setAdditionalSearchPath(pybullet_data.getDataPath())\n",
    "        pb_client.resetSimulation()\n",
    "        \n",
    "        robot = SimAgent(name='sim_agent_0',\n",
    "                         pybullet_client=pb_client,\n",
    "                         model_file=AMASS_URDF_FILE,\n",
    "                         char_info=char_info,\n",
    "                         scale=h / 1.6,\n",
    "                         ref_scale=h / 1.6,\n",
    "                         self_collision=False,\n",
    "                         # actuation=spd,\n",
    "                         kinematic_only=True,\n",
    "                         verbose=True)        "
   ]
  },
  {
   "cell_type": "code",
   "execution_count": 26,
   "id": "progressive-columbia",
   "metadata": {},
   "outputs": [],
   "source": [
    "def get_raw_motion_info(robot: SimAgent, m: Motion) -> List[Dict[int, List[float]]]:\n",
    "    # runs robot FK\n",
    "    raw_info = []\n",
    "    cur_time = 0.015 / 2.0\n",
    "\n",
    "    while cur_time < m.length():\n",
    "        cur_pose = m.get_pose_by_time(cur_time)\n",
    "        robot.set_pose(cur_pose, None)\n",
    "\n",
    "        cur_info = {}\n",
    "\n",
    "        all_joint_idx = robot.get_char_info().joint_idx.values()\n",
    "\n",
    "        for idx in all_joint_idx:\n",
    "            if idx == robot.get_char_info().root:\n",
    "                # this is the root joint\n",
    "                _, Q, _, _ = robot.get_root_state()\n",
    "                p = robot.get_root_local_point_p(cst.ROOT_COM_OFFSET)\n",
    "                cur_info[idx] = list(p) + list(Q)\n",
    "            else:\n",
    "                state = robot.get_link_states([idx])\n",
    "                cur_info[idx] = list(state[0]) + list(state[1])\n",
    "            assert len(cur_info[idx]) == 7\n",
    "\n",
    "        # print(cur_info)\n",
    "        # input(\"press enter\")\n",
    "        raw_info.append(cur_info)\n",
    "        cur_time += cst.DT\n",
    "\n",
    "    return raw_info"
   ]
  },
  {
   "cell_type": "code",
   "execution_count": 27,
   "id": "unlike-johnston",
   "metadata": {},
   "outputs": [],
   "source": [
    "motion_info = get_raw_motion_info(robot, motion)"
   ]
  },
  {
   "cell_type": "code",
   "execution_count": 28,
   "id": "regulated-uganda",
   "metadata": {},
   "outputs": [
    {
     "data": {
      "text/plain": [
       "7"
      ]
     },
     "execution_count": 28,
     "metadata": {},
     "output_type": "execute_result"
    }
   ],
   "source": [
    "# len(motion_info)\n",
    "motion_info[0].keys()\n",
    "motion_info[1].keys()\n",
    "len(motion_info[1][-1])"
   ]
  },
  {
   "cell_type": "code",
   "execution_count": 29,
   "id": "appointed-ghost",
   "metadata": {},
   "outputs": [],
   "source": [
    "# get xyz init!"
   ]
  },
  {
   "cell_type": "code",
   "execution_count": null,
   "id": "upper-evidence",
   "metadata": {},
   "outputs": [],
   "source": []
  },
  {
   "cell_type": "code",
   "execution_count": 30,
   "id": "compact-gothic",
   "metadata": {},
   "outputs": [],
   "source": [
    "# inference"
   ]
  },
  {
   "cell_type": "code",
   "execution_count": 42,
   "id": "aware-description",
   "metadata": {},
   "outputs": [],
   "source": [
    "from typing import Union, Tuple\n",
    "\n",
    "import torch\n",
    "from torch import nn\n",
    "\n",
    "from real_time_runner_minimal import RTRunnerMin"
   ]
  },
  {
   "cell_type": "code",
   "execution_count": 43,
   "id": "rural-arctic",
   "metadata": {},
   "outputs": [],
   "source": [
    "def run_ours_wrapper_with_c_rt(imu, s_gt, model_name, char) -> (np.ndarray, np.ndarray):\n",
    "    def load_model(name):\n",
    "        from simple_transformer_with_state import TF_RNN_Past_State\n",
    "        input_channels_imu = 6 * (9 + 3)\n",
    "        if USE_5_SBP:\n",
    "            output_channels = 18 * 6 + 3 + 20\n",
    "        else:\n",
    "            output_channels = 18 * 6 + 3 + 8\n",
    "\n",
    "        model = TF_RNN_Past_State(\n",
    "            input_channels_imu, output_channels,\n",
    "            rnn_hid_size=512,\n",
    "            tf_hid_size=1024, tf_in_dim=256,\n",
    "            n_heads=16, tf_layers=4,\n",
    "            dropout=0.0, in_dropout=0.0,\n",
    "            past_state_dropout=0.8,\n",
    "            with_acc_sum=WITH_ACC_SUM\n",
    "        )\n",
    "        model.load_state_dict(torch.load(name))\n",
    "        model = model.cuda()\n",
    "        # model.eval()\n",
    "        return model\n",
    "\n",
    "    m = load_model(model_name)\n",
    "\n",
    "    # ours_out, c_out, viz_locs_out = test_run_ours_gpt_v4_with_c_rt(char, s_gt, imu, m, 40)\n",
    "    ours_out, c_out, viz_locs_out = test_run_ours_gpt_v4_with_c_rt_minimal(char, s_gt, imu, m, 40)\n",
    "\n",
    "    return ours_out, c_out, viz_locs_out\n",
    "\n",
    "\n",
    "def test_run_ours_gpt_v4_with_c_rt_minimal(\n",
    "        char: SimAgent,\n",
    "        s_gt: np.array,\n",
    "        imu: np.array,\n",
    "        m: nn.Module,\n",
    "        max_win_len: int\n",
    ") -> Tuple[np.ndarray, np.ndarray, np.ndarray]:\n",
    "\n",
    "    # use real time runner with offline data\n",
    "    rt_runner = RTRunnerMin(\n",
    "        char, m, max_win_len, s_gt[0],\n",
    "        with_acc_sum=WITH_ACC_SUM,\n",
    "    )\n",
    "\n",
    "    m_len = imu.shape[0]\n",
    "    s_traj_pred = np.zeros((m_len, cst.n_dofs * 2))\n",
    "    s_traj_pred[0] = s_gt[0]\n",
    "\n",
    "    c_traj_pred = np.zeros((m_len, rt_runner.n_sbps * 4))\n",
    "    viz_locs_seq = [np.ones((rt_runner.n_sbps, 3)) * 100.0]\n",
    "\n",
    "    for t in range(0, m_len-1):\n",
    "        res = rt_runner.step(imu[t, :], s_traj_pred[t, :3])\n",
    "\n",
    "        s_traj_pred[t + 1, :] = res['qdq']\n",
    "        c_traj_pred[t + 1, :] = res['ct']\n",
    "\n",
    "        viz_locs = res['viz_locs']\n",
    "        for sbp_i in range(viz_locs.shape[0]):\n",
    "            viz_point(viz_locs[sbp_i, :], sbp_i)\n",
    "        viz_locs_seq.append(viz_locs)\n",
    "\n",
    "        if RENDER:\n",
    "            time.sleep(1. / 180)\n",
    "\n",
    "    # throw away first \"trim\" predictions (our algorithm gives dummy values)... append dummy value in the end.\n",
    "    viz_locs_seq = np.array(viz_locs_seq)\n",
    "    assert len(viz_locs_seq) == len(s_traj_pred)\n",
    "\n",
    "    # +2 because post-processing moving average filter effectively introduce a bit more delay\n",
    "    trim = rt_runner.IMU_n_smooth + 2\n",
    "    s_traj_pred[0:-trim, :] = s_traj_pred[trim:, :]\n",
    "    s_traj_pred[-trim:, :] = s_traj_pred[-trim-1, :]\n",
    "    viz_locs_seq[0:-trim, :, :] = viz_locs_seq[trim:, :, :]\n",
    "    viz_locs_seq[-trim:, :, :] = viz_locs_seq[-trim-1, :, :]\n",
    "\n",
    "    return s_traj_pred, c_traj_pred, viz_locs_seq"
   ]
  },
  {
   "cell_type": "code",
   "execution_count": 46,
   "id": "utility-institute",
   "metadata": {},
   "outputs": [],
   "source": [
    "from fairmotion.ops import conversions\n",
    "\n",
    "from data_utils import get_rot_center_sample_based, \\\n",
    "    get_raw_motion_info_nimble_q_dummy_dq\n",
    "\n",
    "\n",
    "def get_imu_readings_from_raw_motion_info(\n",
    "        robot: SimAgent,\n",
    "        raw_info: List[Dict[int, List[float]]]\n",
    ") -> np.ndarray:\n",
    "    # a matrix of size l-by-(6*(9+3))\n",
    "\n",
    "    l = len(raw_info)\n",
    "    H = np.zeros((l, 6 * (9 + 3)), float)\n",
    "    _info = robot.get_char_info()\n",
    "\n",
    "    if USE_KNEE_RATHER_ANKLE_IMU:\n",
    "        imu_joints = [\n",
    "            _info.root,\n",
    "            _info.lwrist,\n",
    "            _info.rwrist,\n",
    "            _info.lknee,\n",
    "            _info.rknee,\n",
    "            _info.upperneck,\n",
    "        ]\n",
    "    else:\n",
    "        imu_joints = [\n",
    "            _info.root,\n",
    "            _info.rankle,\n",
    "            _info.lankle,\n",
    "            _info.lwrist,\n",
    "            _info.rwrist,\n",
    "            _info.upperneck\n",
    "        ]\n",
    "\n",
    "    for t in range(l):\n",
    "        # fill in the ori readings\n",
    "        imu_Rs = []  # 6*9\n",
    "        cur_info = raw_info[t]\n",
    "\n",
    "        root_q = np.array(cur_info[_info.root][3:])\n",
    "        root_R = conversions.Q2R(root_q)\n",
    "        imu_Rs += root_R.flatten().tolist()  # in global frame (no transform)\n",
    "\n",
    "        for j in imu_joints[1:]:\n",
    "            # other five IMUs\n",
    "            joint_R = conversions.Q2R(np.array(cur_info[j][3:]))\n",
    "            imu_Rs += joint_R.flatten().tolist()\n",
    "\n",
    "        H[t, :6 * 9] = imu_Rs\n",
    "\n",
    "    for t in range(cst.acc_fd_N, l - cst.acc_fd_N):\n",
    "        # fill in the acc readings\n",
    "        imu_as = []\n",
    "        cur_info = raw_info[t]\n",
    "        prev_info = raw_info[t - cst.acc_fd_N]\n",
    "        next_info = raw_info[t + cst.acc_fd_N]\n",
    "\n",
    "        root_a = \\\n",
    "            -2 * np.array(cur_info[_info.root][:3]) \\\n",
    "            + next_info[_info.root][:3] \\\n",
    "            + prev_info[_info.root][:3]\n",
    "        root_a /= (cst.DT_FIN_ACC ** 2)\n",
    "        imu_as += root_a.tolist()\n",
    "\n",
    "        for j in imu_joints[1:]:\n",
    "            # other five IMUs\n",
    "            joint_a = -2 * np.array(cur_info[j][:3]) + next_info[j][:3] + prev_info[j][:3]\n",
    "            joint_a /= (cst.DT_FIN_ACC ** 2)\n",
    "            imu_as += joint_a.flatten().tolist()\n",
    "\n",
    "        H[t, 6 * 9:] = imu_as\n",
    "\n",
    "    # pad boundary acc\n",
    "    H[:cst.acc_fd_N, 6 * 9:] = H[cst.acc_fd_N, 6 * 9:]\n",
    "    H[-cst.acc_fd_N:, 6 * 9:] = H[-cst.acc_fd_N - 1, 6 * 9:]\n",
    "\n",
    "    return H\n",
    "\n",
    "\n",
    "def get_all_contr_seqs_from_raw_motion_info(\n",
    "    robot: SimAgent,\n",
    "    raw_info: List[Dict[int, List[float]]]\n",
    ") -> np.ndarray:\n",
    "\n",
    "    _info = robot.get_char_info()\n",
    "    constr_links = [\n",
    "            _info.lankle,\n",
    "            _info.rankle,\n",
    "            _info.lwrist,\n",
    "            _info.rwrist,\n",
    "            _info.root,\n",
    "    ]\n",
    "\n",
    "    c_all = []\n",
    "    for link in constr_links:\n",
    "        contrs_link, r_sum_link = get_link_contr_seq_from_raw_motion_info(\n",
    "            raw_info, link\n",
    "        )\n",
    "        c_all.append(contrs_link)\n",
    "        # if np.max(np.abs(r_sum_link)) > 0.2:\n",
    "        #     print(link, r_sum_link)\n",
    "\n",
    "    c_all = np.concatenate(c_all, axis=1)\n",
    "\n",
    "    return c_all\n",
    "\n",
    "\n",
    "def get_link_contr_seq_from_raw_motion_info(\n",
    "        raw_info: List[Dict[int, List[float]]],\n",
    "        link: int\n",
    ") -> (np.ndarray, np.ndarray):\n",
    "    # a l-by-4 matrix, each row being\n",
    "    # (0/1, (0,0,0)/Rr)\n",
    "\n",
    "    r_prev = None\n",
    "    m_len = len(raw_info)\n",
    "    contr_seq = np.zeros((m_len, 4))\n",
    "\n",
    "    residue_sum = np.array([0., 0, 0])\n",
    "\n",
    "    def get_p_q_from_t(_t):\n",
    "        cur_info = raw_info[_t]\n",
    "        link_p = np.array(cur_info[link][:3])\n",
    "        link_q = np.array(cur_info[link][3:])\n",
    "        return link_p, link_q\n",
    "\n",
    "    for t in range(2, m_len - 2):\n",
    "\n",
    "        prev_p, prev_q = get_p_q_from_t(t - 1)\n",
    "        cur_p, cur_q = get_p_q_from_t(t)\n",
    "        next_p, next_q = get_p_q_from_t(t + 1)\n",
    "\n",
    "        r, residue = get_rot_center_sample_based(prev_p, prev_q, next_p, next_q, 2 * cst.DT, r_prev, link)\n",
    "\n",
    "        residue_sum += residue * cst.DT\n",
    "\n",
    "        # if r is None, zeros filled in already\n",
    "        if r is not None:\n",
    "            cur_R = conversions.Q2R(cur_q)\n",
    "            assert np.linalg.norm(r) < 0.25\n",
    "            contr_seq[t, :] = np.concatenate((\n",
    "                [1.0],\n",
    "                r\n",
    "            ))\n",
    "\n",
    "        r_prev = r\n",
    "\n",
    "    return contr_seq, residue_sum"
   ]
  },
  {
   "cell_type": "code",
   "execution_count": 36,
   "id": "plastic-performer",
   "metadata": {},
   "outputs": [],
   "source": [
    "        imu = get_imu_readings_from_raw_motion_info(robot, motion_info)\n",
    "\n",
    "        contrs = get_all_contr_seqs_from_raw_motion_info(robot, motion_info)\n",
    "\n",
    "        qdq = get_raw_motion_info_nimble_q_dummy_dq(robot, motion)"
   ]
  },
  {
   "cell_type": "code",
   "execution_count": 48,
   "id": "swedish-aurora",
   "metadata": {},
   "outputs": [],
   "source": [
    "import argparse\n",
    "\n",
    "\n",
    "parser = argparse.ArgumentParser(description='Run our model and related works models')\n",
    "parser.add_argument('--ours_path_name_kin', type=str, default=\"model-kin-amass-4-knee-v2.pt\",\n",
    "                    help='')\n",
    "parser.add_argument('--name_contains', type=str, default='',\n",
    "                    help='Please use \"\" to be able to pass multiple search keys split by whitespaces')\n",
    "parser.add_argument('--test_len', type=int, default=600,\n",
    "                    help='')\n",
    "parser.add_argument('--render', action='store_true',\n",
    "                    help='')\n",
    "parser.add_argument('--compare_gt', action='store_true',\n",
    "                    help='')\n",
    "parser.add_argument('--seed', type=int, default=42,\n",
    "                    help='')\n",
    "parser.add_argument('--five_sbp', action='store_true',\n",
    "                    help='')\n",
    "parser.add_argument('--with_acc_sum', action='store_true',\n",
    "                    help='')\n",
    "parser.add_argument('--viz_terrain', action='store_true',\n",
    "                    help='')\n",
    "parser.add_argument('--data_version_tag', type=str, default=None,\n",
    "                    help='')\n",
    "# parser.add_argument('--save_c', action='store_true',\n",
    "#                     help='')                # for the DIP-IMU set which has C info\n",
    "# args = parser.parse_args()\n",
    "\n",
    "import re\n",
    "args = parser.parse_args(\n",
    "    re.split(\" \", \"--ours_path_name_kin ../../output/model-new-v1-0.pt --test_len 30000 --with_acc_sum --compare_gt --seed 42 --five_sbp\")\n",
    ")"
   ]
  },
  {
   "cell_type": "code",
   "execution_count": 38,
   "id": "decimal-davis",
   "metadata": {},
   "outputs": [],
   "source": [
    "from render_funcs import init_viz, COLOR_OURS, update_height_field_pb, set_color, COLOR_GT"
   ]
  },
  {
   "cell_type": "code",
   "execution_count": 50,
   "id": "saved-anderson",
   "metadata": {},
   "outputs": [],
   "source": [
    "def viz_point(x, ind):\n",
    "    pb_client.resetBasePositionAndOrientation(\n",
    "        VIDs[ind],\n",
    "        x,\n",
    "        [0., 0, 0, 1]\n",
    "    )"
   ]
  },
  {
   "cell_type": "code",
   "execution_count": 54,
   "id": "intense-rwanda",
   "metadata": {},
   "outputs": [
    {
     "name": "stdout",
     "output_type": "stream",
     "text": [
      "[SimAgent] Creating an agent... ../../data/amass.urdf\n",
      "[SimAgent] Creating an agent... ../../data/amass.urdf\n"
     ]
    }
   ],
   "source": [
    "TEST_LEN = args.test_len\n",
    "RENDER = args.render\n",
    "MAX_TEST_MOTION_PRE_CAT = 50        # make testing faster\n",
    "# if args.save_c:\n",
    "#     MAX_TEST_MOTION_PRE_CAT = 50000\n",
    "# else:\n",
    "#     MAX_TEST_MOTION_PRE_CAT = 50\n",
    "USE_5_SBP = args.five_sbp\n",
    "WITH_ACC_SUM = args.with_acc_sum\n",
    "\n",
    "MAP_BOUND = cst.MAP_BOUND * 2.0     # some motions are in large range\n",
    "GRID_NUM = int(MAP_BOUND/cst.GRID_SIZE) * 2\n",
    "\n",
    "\n",
    "# TODO: really odd, need to be huge for pybullet to work (say. 10.0)\n",
    "init_grid_np = np.random.uniform(-10.0, 10.0, (GRID_NUM, GRID_NUM))\n",
    "init_grid_list = list(init_grid_np.flatten())\n",
    "\n",
    "color = COLOR_OURS\n",
    "\n",
    "pb_client, c1, c2, VIDs, h_id, h_b_id = init_viz(char_info,\n",
    "                                                 init_grid_list,\n",
    "                                                 hmap_scale=cst.GRID_SIZE,\n",
    "                                                 gui=RENDER,\n",
    "                                                 compare_gt=args.compare_gt,\n",
    "                                                 color=color,\n",
    "                                                 viz_h_map=args.viz_terrain)"
   ]
  },
  {
   "cell_type": "code",
   "execution_count": null,
   "id": "threaded-nightmare",
   "metadata": {},
   "outputs": [],
   "source": [
    "gt_list = []\n",
    "ours_list = []\n",
    "ours_c_list = []\n",
    "ours_c_viz_list = []\n",
    "tp_list = []\n",
    "dip_list = []\n",
    "test_files_included = []\n",
    "\n",
    "#     data = pickle.load(open(f, \"rb\"))\n",
    "\n",
    "def inference(data):\n",
    "    X = data['imu']\n",
    "    Y = data['nimble_qdq']\n",
    "\n",
    "    # exclude too short trajs\n",
    "    if Y.shape[0] < 2.5 / cst.DT:\n",
    "        print(\"cannot inference\")\n",
    "        return None\n",
    "\n",
    "    # to make all motion equal in stat compute, and run faster\n",
    "    if Y.shape[0] > TEST_LEN:\n",
    "        rand_start = random.randrange(0, Y.shape[0] - TEST_LEN)\n",
    "        start = rand_start\n",
    "        end = rand_start + TEST_LEN\n",
    "    else:\n",
    "        start = 0\n",
    "        end = Y.shape[0]\n",
    "    X = X[start: end, :]\n",
    "    Y = Y[start: end, :]\n",
    "\n",
    "    # for clearer visualization, amass data not calibrated well wrt floor\n",
    "    # translation errors are computed from displacement not absolute Y\n",
    "    Y[:, 2] += 0.05       # move motion root 5 cm up\n",
    "\n",
    "#     gt_list.append(Y)\n",
    "#     test_files_included.append(f)\n",
    "#     print(f)\n",
    "\n",
    "    ours, C, ours_c_viz = run_ours_wrapper_with_c_rt(X, Y, args.ours_path_name_kin, c1)\n",
    "#     ours_list.append(ours)\n",
    "#     ours_c_viz_list.append(ours_c_viz)\n",
    "\n",
    "    # if args.save_c:\n",
    "    #     save_name = f.replace(\"v0\", \"v0_c\")\n",
    "    #     assert \"dipimu\" in f\n",
    "    #     with open(save_name, \"wb\") as handle:\n",
    "    #         assert len(X) == len(C)\n",
    "    #         print(C.shape)\n",
    "    #         pickle.dump(\n",
    "    #             {\"constrs\": C},\n",
    "    #             handle,\n",
    "    #             protocol=pickle.HIGHEST_PROTOCOL\n",
    "    #         )\n",
    "    #     print(\"saved\", save_name)\n",
    "    \n",
    "    return Y, ours, C, ours_c_viz"
   ]
  },
  {
   "cell_type": "code",
   "execution_count": 55,
   "id": "undefined-polls",
   "metadata": {},
   "outputs": [
    {
     "name": "stdout",
     "output_type": "stream",
     "text": [
      "model with acc sum\n",
      "number of parameters: %e 3677315\n"
     ]
    }
   ],
   "source": [
    "data = {\n",
    "    \"imu\": imu,\n",
    "    \"constrs\": contrs,\n",
    "    \"nimble_qdq\": qdq,\n",
    "}\n",
    "\n",
    "Y, ours, C, ours_c_viz = inference(data)"
   ]
  },
  {
   "cell_type": "code",
   "execution_count": 58,
   "id": "arctic-costs",
   "metadata": {},
   "outputs": [
    {
     "data": {
      "text/plain": [
       "((3682, 114), (3682, 20), (3682, 5, 3))"
      ]
     },
     "execution_count": 58,
     "metadata": {},
     "output_type": "execute_result"
    }
   ],
   "source": [
    "Y.shape, C.shape, ours_c_viz.shape"
   ]
  },
  {
   "cell_type": "code",
   "execution_count": null,
   "id": "racial-syndicate",
   "metadata": {},
   "outputs": [],
   "source": []
  }
 ],
 "metadata": {
  "kernelspec": {
   "display_name": "Python 3",
   "language": "python",
   "name": "python3"
  },
  "language_info": {
   "codemirror_mode": {
    "name": "ipython",
    "version": 3
   },
   "file_extension": ".py",
   "mimetype": "text/x-python",
   "name": "python",
   "nbconvert_exporter": "python",
   "pygments_lexer": "ipython3",
   "version": "3.8.8"
  }
 },
 "nbformat": 4,
 "nbformat_minor": 5
}
