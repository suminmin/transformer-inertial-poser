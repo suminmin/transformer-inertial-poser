{
 "cells": [
  {
   "cell_type": "code",
   "execution_count": 1,
   "id": "liberal-bruce",
   "metadata": {},
   "outputs": [],
   "source": [
    "import sys\n",
    "sys.path.append(\"../../\")"
   ]
  },
  {
   "cell_type": "code",
   "execution_count": 2,
   "id": "advanced-drilling",
   "metadata": {},
   "outputs": [
    {
     "name": "stdout",
     "output_type": "stream",
     "text": [
      "pygame 2.3.0 (SDL 2.24.2, Python 3.8.8)\n",
      "Hello from the pygame community. https://www.pygame.org/contribute.html\n"
     ]
    }
   ],
   "source": [
    "import importlib.util\n",
    "import pickle\n",
    "import socket\n",
    "import threading\n",
    "import time\n",
    "from datetime import datetime\n",
    "import torch\n",
    "import numpy as np\n",
    "from fairmotion.ops import conversions\n",
    "from pygame.time import Clock\n",
    "\n",
    "from real_time_runner import RTRunner\n",
    "from simple_transformer_with_state import TF_RNN_Past_State\n",
    "from render_funcs import init_viz, update_height_field_pb, COLOR_OURS\n",
    "# make deterministic\n",
    "from learning_utils import set_seed\n",
    "import constants as cst\n",
    "set_seed(1234567)"
   ]
  },
  {
   "cell_type": "code",
   "execution_count": 3,
   "id": "accurate-interstate",
   "metadata": {},
   "outputs": [
    {
     "name": "stdout",
     "output_type": "stream",
     "text": [
      "[[[ 2.22044605e-16  0.00000000e+00  1.00000000e+00]\n",
      "  [ 1.00000000e+00  0.00000000e+00 -2.22044605e-16]\n",
      "  [ 0.00000000e+00  1.00000000e+00  0.00000000e+00]]\n",
      "\n",
      " [[ 2.22044605e-16  0.00000000e+00  1.00000000e+00]\n",
      "  [ 1.00000000e+00  0.00000000e+00 -2.22044605e-16]\n",
      "  [ 0.00000000e+00  1.00000000e+00  0.00000000e+00]]\n",
      "\n",
      " [[ 2.22044605e-16  0.00000000e+00  1.00000000e+00]\n",
      "  [ 1.00000000e+00  0.00000000e+00 -2.22044605e-16]\n",
      "  [ 0.00000000e+00  1.00000000e+00  0.00000000e+00]]\n",
      "\n",
      " [[ 2.22044605e-16  0.00000000e+00  1.00000000e+00]\n",
      "  [ 1.00000000e+00  0.00000000e+00 -2.22044605e-16]\n",
      "  [ 0.00000000e+00  1.00000000e+00  0.00000000e+00]]\n",
      "\n",
      " [[ 2.22044605e-16  0.00000000e+00  1.00000000e+00]\n",
      "  [ 1.00000000e+00  0.00000000e+00 -2.22044605e-16]\n",
      "  [ 0.00000000e+00  1.00000000e+00  0.00000000e+00]]\n",
      "\n",
      " [[ 2.22044605e-16  0.00000000e+00  1.00000000e+00]\n",
      "  [ 1.00000000e+00  0.00000000e+00 -2.22044605e-16]\n",
      "  [ 0.00000000e+00  1.00000000e+00  0.00000000e+00]]]\n"
     ]
    }
   ],
   "source": [
    "device = torch.device('cuda' if torch.cuda.is_available() else 'cpu')\n",
    "running = False\n",
    "is_recording = True     # always record imu every 15 sec\n",
    "record_buffer = None\n",
    "num_imus = 6\n",
    "num_float_one_frame = num_imus * 7      # sent from Xsens\n",
    "FREQ = int(1. / cst.DT)\n",
    "\n",
    "color = COLOR_OURS\n",
    "\n",
    "# model_name = \"output/model-new-v0-2.pt\"\n",
    "model_name = \"../../output/model-new-v1-0.pt\"\n",
    "\n",
    "USE_5_SBP = True\n",
    "WITH_ACC_SUM = True\n",
    "MULTI_SBP_CORRECTION = False\n",
    "VIZ_H_MAP = True\n",
    "MAX_ACC = 10.0\n",
    "\n",
    "init_grid_np = np.random.uniform(-100.0, 100.0, (cst.GRID_NUM, cst.GRID_NUM))\n",
    "init_grid_list = list(init_grid_np.flatten())\n",
    "\n",
    "input_channels_imu = 6 * (9 + 3)\n",
    "if USE_5_SBP:\n",
    "    output_channels = 18 * 6 + 3 + 20\n",
    "else:\n",
    "    output_channels = 18 * 6 + 3 + 8\n",
    "    \n",
    "# make an aligned T pose, such that front is x, left is y, and up is z (i.e. without heading)\n",
    "# the IMU sensor at head will be placed the same way, so we can get the T pose's heading (wrt ENU) easily\n",
    "# the following are the known bone orientations at such a T pose\n",
    "Rs_aligned_T_pose = np.array([\n",
    "    1.0, 0, 0, 0, 0, -1, 0, 1, 0,\n",
    "    1.0, 0, 0, 0, 0, -1, 0, 1, 0,\n",
    "    1.0, 0, 0, 0, 0, -1, 0, 1, 0,\n",
    "    1.0, 0, 0, 0, 0, -1, 0, 1, 0,\n",
    "    1.0, 0, 0, 0, 0, -1, 0, 1, 0,\n",
    "    1.0, 0, 0, 0, 0, -1, 0, 1, 0,\n",
    "])\n",
    "Rs_aligned_T_pose = Rs_aligned_T_pose.reshape((6, 3, 3))\n",
    "Rs_aligned_T_pose = \\\n",
    "    np.einsum('ij,njk->nik', conversions.A2R(np.array([0, 0, np.pi/2])), Rs_aligned_T_pose)\n",
    "print(Rs_aligned_T_pose)\n",
    "\n",
    "# the state at the T pose, dq not necessary actually and will not be used either\n",
    "s_init_T_pose = np.zeros(cst.n_dofs * 2)\n",
    "s_init_T_pose[2] = 0.85\n",
    "s_init_T_pose[3:6] = np.array([1.20919958, 1.20919958, 1.20919958])"
   ]
  },
  {
   "cell_type": "code",
   "execution_count": 4,
   "id": "funny-shower",
   "metadata": {},
   "outputs": [],
   "source": [
    "# # Based from TransPose github repo\n",
    "# class IMUSet:\n",
    "#     def __init__(self, imu_host='127.0.0.1', imu_port=27015):\n",
    "#         self.imu_host = imu_host\n",
    "#         self.imu_port = imu_port\n",
    "#         self.clock = Clock()\n",
    "\n",
    "#         self._imu_socket = None\n",
    "#         self._is_reading = False\n",
    "#         self._read_thread = None\n",
    "\n",
    "#         self.current_reading = None\n",
    "#         self.counter = 0\n",
    "\n",
    "#     def _read(self):\n",
    "#         \"\"\"\n",
    "#         The thread that reads imu measurements into the buffer. It is a producer for the buffer.\n",
    "#         \"\"\"\n",
    "#         data = ''\n",
    "#         while self._is_reading:\n",
    "#             data += self._imu_socket.recv(1024).decode('ascii')\n",
    "#             strs = data.split(' ', num_float_one_frame)\n",
    "\n",
    "#             # if we have read a whole frame\n",
    "#             if len(strs) == num_float_one_frame + 1:\n",
    "\n",
    "#                 q_and_a_s = np.array(strs[:-1]).astype(float).reshape(num_imus, 7)\n",
    "\n",
    "#                 q_s_gn = q_and_a_s[:, :4]\n",
    "#                 R_s_gn = conversions.Q2R(q_s_gn)\n",
    "#                 a_s = q_and_a_s[:, 4:]\n",
    "\n",
    "#                 # need to do acc offset elsewhere.\n",
    "#                 # a_s_g = np.einsum('ijk,ik->ij', R_s_g, a_s)\n",
    "#                 # # probably doesn't matter, will be taken care by acc offset calibration as well.\n",
    "#                 # a_s_g += np.array([0., 0., -9.8])\n",
    "\n",
    "#                 # if self.counter % 25 == 0:\n",
    "#                 #     print('\\n' + str(q_s[0, :]) + str(a_s_g[0, :]))\n",
    "#                 self.counter += 1\n",
    "#                 # everything in global (ENU) frame\n",
    "#                 self.current_reading = np.concatenate((R_s_gn.reshape(-1), a_s.reshape(-1)))\n",
    "\n",
    "#                 data = strs[-1]         # if there are partial data from next frame\n",
    "#                 self.clock.tick()\n",
    "\n",
    "#     def start_reading(self):\n",
    "#         \"\"\"\n",
    "#         Start reading imu measurements into the buffer.\n",
    "#         \"\"\"\n",
    "#         if self._read_thread is None:\n",
    "#             self._is_reading = True\n",
    "#             self._read_thread = threading.Thread(target=self._read)\n",
    "#             self._read_thread.setDaemon(True)\n",
    "#             self._imu_socket = socket.socket(socket.AF_INET, socket.SOCK_STREAM)\n",
    "#             self._imu_socket.connect((self.imu_host, self.imu_port))\n",
    "#             self._read_thread.start()\n",
    "#         else:\n",
    "#             print('Failed to start reading thread: reading is already start.')\n",
    "\n",
    "#     def stop_reading(self):\n",
    "#         \"\"\"\n",
    "#         Stop reading imu measurements.\n",
    "#         \"\"\"\n",
    "#         if self._read_thread is not None:\n",
    "#             self._is_reading = False\n",
    "#             self._read_thread.join()\n",
    "#             self._read_thread = None\n",
    "#             self._imu_socket.close()"
   ]
  },
  {
   "cell_type": "code",
   "execution_count": 5,
   "id": "synthetic-adoption",
   "metadata": {},
   "outputs": [],
   "source": [
    "# USE_KNEE_RATHER_ANKLE_IMU = True\n",
    "USE_KNEE_RATHER_ANKLE_IMU = False\n",
    "\n",
    "if USE_KNEE_RATHER_ANKLE_IMU:\n",
    "    SPARSE_JOINT_IMUS = [ \n",
    "        \"pelvis\", \n",
    "        \"left_forearm\", \n",
    "        \"right_forearm\",\n",
    "        \"left_upper_leg\", \n",
    "        \"right_upper_leg\",\n",
    "        \"head\"]\n",
    "else:\n",
    "    SPARSE_JOINT_IMUS = [ \n",
    "        \"pelvis\", \n",
    "        \"left_forearm\", \n",
    "        \"right_forearm\",\n",
    "        \"left_lower_leg\", \n",
    "        \"right_lower_leg\",\n",
    "        \"head\"]\n",
    "    \n",
    "def get_sparse_data(data):\n",
    "    sparse_data = []\n",
    "    for t,t_data in enumerate(data):\n",
    "        sparse_data.append( [ t_data[key] for key in SPARSE_JOINT_IMUS ] )\n",
    "    return np.asarray(sparse_data)\n",
    "\n",
    "\n",
    "sys.path.append(\"./dependencies/hps/preprocess\")\n",
    "from xsens import mvnx\n",
    "\n",
    "\n",
    "# Based from TransPose github repo\n",
    "class OfflineIMUSet:\n",
    "    def __init__(self, mvnx_filename):\n",
    "        self.current_reading = None\n",
    "        self.counter = 0\n",
    "        \n",
    "        mvnx_data = mvnx.MVNX(mvnx_filename)\n",
    "        \n",
    "        self.ms_times = [ int(frame[\"ms\"]) for frame in mvnx_data.frames ]\n",
    "        self.ms_times = [ t - self.ms_times[0] for t in self.ms_times ]\n",
    "        \n",
    "        quat_tag = \"orientation\"\n",
    "        acc_tag = \"acceleration\"\n",
    "#         quat_tag = \"sensorOrientation\"\n",
    "#         acc_tag = \"sensorFreeAcceleration\"\n",
    "        quat = get_sparse_data( mvnx_data.get_info(quat_tag) ) # from example_mtw.cpp\n",
    "        acc = get_sparse_data( mvnx_data.get_info(acc_tag) ) ## // TODO: need to substract g after turn into global\n",
    "        self.q_and_a = np.concatenate([quat, acc], axis=2)\n",
    "\n",
    "    def __len__(self):\n",
    "        return len(self.ms_times)\n",
    "        \n",
    "    def read(self):\n",
    "        \"\"\"\n",
    "        The thread that reads imu measurements into the buffer. It is a producer for the buffer.\n",
    "        \"\"\"\n",
    "        q_and_a_s = self.q_and_a[self.counter]\n",
    "\n",
    "        q_s_gn = q_and_a_s[:, :4]\n",
    "        R_s_gn = conversions.Q2R(q_s_gn)\n",
    "        a_s = q_and_a_s[:, 4:]\n",
    "\n",
    "        self.counter += 1\n",
    "        # everything in global (ENU) frame\n",
    "        self.current_reading = np.concatenate((R_s_gn.reshape(-1), a_s.reshape(-1))) ##\n",
    "\n",
    "#         self.clock.tick()\n",
    "        \n",
    "        return self.current_reading\n",
    "    \n",
    "    \n",
    "    def read_by_index(self, index):\n",
    "        \"\"\"\n",
    "        The thread that reads imu measurements into the buffer. It is a producer for the buffer.\n",
    "        \"\"\"\n",
    "        if index >= len(self):\n",
    "            return None\n",
    "        \n",
    "        q_and_a_s = self.q_and_a[index]\n",
    "\n",
    "        q_s_gn = q_and_a_s[:, :4]\n",
    "        R_s_gn = conversions.Q2R(q_s_gn)\n",
    "        a_s = q_and_a_s[:, 4:]\n",
    "\n",
    "        # everything in global (ENU) frame\n",
    "        return np.concatenate((R_s_gn.reshape(-1), a_s.reshape(-1))) ##"
   ]
  },
  {
   "cell_type": "code",
   "execution_count": 6,
   "id": "turned-housing",
   "metadata": {},
   "outputs": [],
   "source": [
    "# def get_input():\n",
    "#     global running\n",
    "#     while running:\n",
    "#         c = input()\n",
    "#         if c == 'q':\n",
    "#             running = False\n",
    "\n",
    "\n",
    "# def get_mean_readings_3_sec(clock):\n",
    "#     counter = 0\n",
    "#     mean_buffer = []\n",
    "#     while counter <= FREQ * 3:\n",
    "#         clock.tick(FREQ)\n",
    "#         mean_buffer.append(imu_set.current_reading.copy())\n",
    "#         counter += 1\n",
    "\n",
    "#     return np.array(mean_buffer).mean(axis=0)\n",
    "\n",
    "\n",
    "# def get_transformed_current_reading():\n",
    "#     R_and_acc_t = imu_set.current_reading.copy()\n",
    "\n",
    "#     R_Gn_St = R_and_acc_t[: 6*9].reshape((6, 3, 3))\n",
    "#     acc_St = R_and_acc_t[6*9:].reshape((6, 3))\n",
    "\n",
    "#     R_Gp_St = np.einsum('nij,njk->nik', R_Gn_Gp.transpose((0, 2, 1)), R_Gn_St)\n",
    "#     R_Gp_Bt = np.einsum('nij,njk->nik', R_Gp_St, R_B0_S0.transpose((0, 2, 1)))\n",
    "\n",
    "#     acc_Gp = np.einsum('ijk,ik->ij', R_Gp_St, acc_St)\n",
    "#     acc_Gp = acc_Gp - acc_offset_Gp\n",
    "\n",
    "#     acc_Gp = np.clip(acc_Gp, -MAX_ACC, MAX_ACC)\n",
    "\n",
    "#     return np.concatenate((R_Gp_Bt.reshape(-1), acc_Gp.reshape(-1)))"
   ]
  },
  {
   "cell_type": "code",
   "execution_count": 7,
   "id": "incorrect-alert",
   "metadata": {},
   "outputs": [],
   "source": [
    "def get_current_imu_data(offline_imu_set, clock):\n",
    "    \n",
    "    def get_nn_ms_times(init_clock_t):\n",
    "        diff_ms_t = map(lambda x,y: abs(x-y), offline_imu_set.ms_times, [init_clock_t]*len(offline_imu_set.ms_times) )\n",
    "        return np.argmin(diff_ms_t)\n",
    "    init_t_idx = get_nn_ms_times( clock.get_time() )\n",
    "    \n",
    "    return init_t_idx, offline_imu_set.read_by_index(init_t_idx)\n",
    "\n",
    "def get_mean_readings_3_sec(offline_imu_set, clock):\n",
    "    init_t_idx, _ = get_current_imu_data(offline_imu_set, clock)\n",
    "    init_t = offline_imu_set.ms_times[init_t_idx]\n",
    "    \n",
    "    counter = 0\n",
    "    mean_buffer = []\n",
    "    for t_idx, ms_t in enumerate(offline_imu_set.ms_times[init_t_idx+1:]):\n",
    "        mean_buffer.append( offline_imu_set.read_by_index(t_idx + init_t_idx) )\n",
    "        diff_sec = (ms_t - init_t) / 1000\n",
    "        if diff_sec >= 3.0:\n",
    "            break\n",
    "    return np.array(mean_buffer).mean(axis=0)\n",
    "\n",
    "\n",
    "def get_transformed_R_and_acc(R_and_acc_t):\n",
    "    R_Gn_St = R_and_acc_t[: 6*9].reshape((6, 3, 3))\n",
    "    acc_St = R_and_acc_t[6*9:].reshape((6, 3))\n",
    "\n",
    "    R_Gp_St = np.einsum('nij,njk->nik', R_Gn_Gp.transpose((0, 2, 1)), R_Gn_St)\n",
    "    R_Gp_Bt = np.einsum('nij,njk->nik', R_Gp_St, R_B0_S0.transpose((0, 2, 1)))\n",
    "\n",
    "    acc_Gp = np.einsum('ijk,ik->ij', R_Gp_St, acc_St)\n",
    "    acc_Gp = acc_Gp - acc_offset_Gp\n",
    "\n",
    "    acc_Gp = np.clip(acc_Gp, -MAX_ACC, MAX_ACC)\n",
    "\n",
    "    return np.concatenate((R_Gp_Bt.reshape(-1), acc_Gp.reshape(-1)))\n",
    "\n",
    "\n",
    "def get_transformed_current_reading(offline_imu_set, clock):\n",
    "    _, R_and_acc_t = get_current_imu_data(offline_imu_set, clock)\n",
    "    return get_transformed_R_and_acc(R_and_acc_t)"
   ]
  },
  {
   "cell_type": "code",
   "execution_count": 8,
   "id": "recreational-analyst",
   "metadata": {},
   "outputs": [],
   "source": [
    "def viz_point(x, ind):\n",
    "    pb_c.resetBasePositionAndOrientation(\n",
    "        p_vids[ind],\n",
    "        x,\n",
    "        [0., 0, 0, 1]\n",
    "    )"
   ]
  },
  {
   "cell_type": "code",
   "execution_count": 9,
   "id": "floating-hybrid",
   "metadata": {},
   "outputs": [],
   "source": [
    "    # imu_set = IMUSet()\n",
    "\n",
    "    mvnx_filename = \"./SUB5_MPI_GEB-002.mvnx\"\n",
    "    offline_imu_set = OfflineIMUSet(mvnx_filename)"
   ]
  },
  {
   "cell_type": "code",
   "execution_count": 10,
   "id": "wanted-butler",
   "metadata": {},
   "outputs": [],
   "source": [
    "    ''' Load Character Info Moudle '''\n",
    "#     spec = importlib.util.spec_from_file_location(\n",
    "#         \"char_info\", \"amass_char_info.py\")\n",
    "    spec = importlib.util.spec_from_file_location(\n",
    "        \"char_info\", \"../../amass_char_info.py\")\n",
    "    char_info = importlib.util.module_from_spec(spec)\n",
    "    spec.loader.exec_module(char_info)"
   ]
  },
  {
   "cell_type": "code",
   "execution_count": 11,
   "id": "treated-curve",
   "metadata": {},
   "outputs": [],
   "source": [
    "# RENDER = True\n",
    "RENDER = False"
   ]
  },
  {
   "cell_type": "code",
   "execution_count": 12,
   "id": "resident-wonder",
   "metadata": {},
   "outputs": [
    {
     "name": "stdout",
     "output_type": "stream",
     "text": [
      "[SimAgent] Creating an agent... ../../data/amass.urdf\n"
     ]
    }
   ],
   "source": [
    "    pb_c, c1, _, p_vids, h_id, h_b_id = init_viz(char_info,\n",
    "                                                 init_grid_list,\n",
    "                                                 viz_h_map=VIZ_H_MAP,\n",
    "                                                 hmap_scale=cst.GRID_SIZE,\n",
    "                                                 gui=RENDER,\n",
    "                                                 compare_gt=False)"
   ]
  },
  {
   "cell_type": "code",
   "execution_count": 13,
   "id": "compound-techno",
   "metadata": {},
   "outputs": [
    {
     "name": "stdout",
     "output_type": "stream",
     "text": [
      "model with acc sum\n",
      "number of parameters: %e 3677315\n"
     ]
    }
   ],
   "source": [
    "    model = TF_RNN_Past_State(\n",
    "        input_channels_imu, output_channels,\n",
    "        rnn_hid_size=512,\n",
    "        tf_hid_size=1024, tf_in_dim=256,\n",
    "        n_heads=16, tf_layers=4,\n",
    "        dropout=0.0, in_dropout=0.0,\n",
    "        past_state_dropout=0.8,\n",
    "        with_acc_sum=WITH_ACC_SUM,\n",
    "    )\n",
    "    model.load_state_dict(torch.load(model_name))\n",
    "    model = model.cuda()"
   ]
  },
  {
   "cell_type": "code",
   "execution_count": 14,
   "id": "remarkable-italic",
   "metadata": {},
   "outputs": [],
   "source": [
    "    clock = Clock()\n",
    "#     imu_set.start_reading()\n",
    "\n",
    "#     input('Put all imus aligned with your body reference frame and then press any key.')\n",
    "#     print('Keep for 3 seconds ...', end='')"
   ]
  },
  {
   "cell_type": "code",
   "execution_count": 15,
   "id": "competitive-blowing",
   "metadata": {},
   "outputs": [
    {
     "data": {
      "text/plain": [
       "16"
      ]
     },
     "execution_count": 15,
     "metadata": {},
     "output_type": "execute_result"
    }
   ],
   "source": [
    "t = clock.tick(FREQ)\n",
    "t"
   ]
  },
  {
   "cell_type": "code",
   "execution_count": 16,
   "id": "agreed-wichita",
   "metadata": {},
   "outputs": [
    {
     "name": "stdout",
     "output_type": "stream",
     "text": [
      "[[[ 0.97945726 -0.02162022 -0.19811421]\n",
      "  [-0.03867477  0.95402037 -0.29673723]\n",
      "  [ 0.19533803  0.29810143  0.93376491]]\n",
      "\n",
      " [[-0.03106667  0.40374566 -0.76081221]\n",
      "  [ 0.45568143 -0.66525059 -0.34151332]\n",
      "  [-0.73788759 -0.5185869  -0.15790368]]\n",
      "\n",
      " [[ 0.23346554 -0.93498776 -0.08188601]\n",
      "  [-0.46284253 -0.24380497  0.75621568]\n",
      "  [-0.73036661 -0.14093696 -0.50420723]]\n",
      "\n",
      " [[ 0.78221987  0.22878308  0.57944141]\n",
      "  [-0.01486797  0.93670348 -0.34978671]\n",
      "  [-0.62279893  0.2650073   0.73610849]]\n",
      "\n",
      " [[ 0.74507588  0.29309668  0.59389385]\n",
      "  [ 0.00266509  0.89601362 -0.4437803 ]\n",
      "  [-0.66220003  0.33231646  0.66680244]]\n",
      "\n",
      " [[ 0.96912568 -0.06045855 -0.22710667]\n",
      "  [-0.0514624   0.89162478 -0.44224179]\n",
      "  [ 0.23161898  0.43964782  0.86198355]]]\n",
      "\tFinish.\n",
      "Start estimating poses. Press q to quit\n"
     ]
    }
   ],
   "source": [
    "    # calibration: heading reset\n",
    "    # R_and_acc_mean = get_mean_readings_3_sec(clock)\n",
    "    R_and_acc_mean = get_mean_readings_3_sec(offline_imu_set, clock)\n",
    "\n",
    "    # R_head = R_and_acc_mean[5*9: 6*9].reshape(3, 3)     # last sensor being head\n",
    "    R_Gn_Gp = R_and_acc_mean[:6*9].reshape((6, 3, 3))\n",
    "    # calibration: acceleration offset\n",
    "    acc_offset_Gp = R_and_acc_mean[6*9:].reshape(6, 3)      # sensor frame (S) and room frame (Gp) align during this\n",
    "\n",
    "    # R_head = np.array([[0.5,  0.866,  0.0],\n",
    "    # [-0.866,  0.5,    0.0],\n",
    "    # [ 0.0,  -0.0,  1.0]])\n",
    "\n",
    "    # this should be pretty much just z rotation (i.e. only heading)\n",
    "    # might be different for different sensors...\n",
    "    print(R_Gn_Gp)\n",
    "\n",
    "#     input('\\nWear all imus correctly and press any key.')\n",
    "#     for i in range(12, 0, -1):\n",
    "#         print('\\rStand straight in T-pose and be ready. The calibration will begin after %d seconds.' % i, end='')\n",
    "#         time.sleep(1)\n",
    "#     print('\\rStand straight in T-pose. Keep the pose for 3 seconds ...', end='')\n",
    "\n",
    "    # calibration: bone-to-sensor transform\n",
    "    # R_and_acc_mean = get_mean_readings_3_sec(clock)\n",
    "    R_and_acc_mean = get_mean_readings_3_sec(offline_imu_set, clock)\n",
    "\n",
    "    R_Gn_S0 = R_and_acc_mean[: 6 * 9].reshape((6, 3, 3))\n",
    "    R_Gp_B0 = Rs_aligned_T_pose\n",
    "    R_Gp_S0 = np.einsum('nij,njk->nik', R_Gn_Gp.transpose((0, 2, 1)), R_Gn_S0)\n",
    "    R_B0_S0 = np.einsum('nij,njk->nik', R_Gp_B0.transpose((0, 2, 1)), R_Gp_S0)\n",
    "\n",
    "    # # rotate init T pose according to heading reset results\n",
    "    # nominal_root_R = conversions.A2R(s_init_T_pose[3:6])\n",
    "    # root_R_init = R_head.dot(nominal_root_R)\n",
    "    # s_init_T_pose[3:6] = conversions.R2A(root_R_init)\n",
    "\n",
    "    # use real time runner with online data\n",
    "    rt_runner = RTRunner(\n",
    "        c1, model, 40, s_init_T_pose,\n",
    "        map_bound=cst.MAP_BOUND,\n",
    "        grid_size=cst.GRID_SIZE,\n",
    "        play_back_gt=False,\n",
    "        five_sbp=USE_5_SBP,\n",
    "        with_acc_sum=WITH_ACC_SUM,\n",
    "        multi_sbp_terrain_and_correction=MULTI_SBP_CORRECTION,\n",
    "    )\n",
    "    last_root_pos = s_init_T_pose[:3]     # assume always start from (0,0,0.9)\n",
    "\n",
    "    print('\\tFinish.\\nStart estimating poses. Press q to quit')"
   ]
  },
  {
   "cell_type": "code",
   "execution_count": 17,
   "id": "written-denmark",
   "metadata": {},
   "outputs": [],
   "source": [
    "    running = True\n",
    "\n",
    "    R_and_acc_t = offline_imu_set.read()\n",
    "    \n",
    "    # RB_and_acc_t = get_transformed_current_reading()\n",
    "    RB_and_acc_t = get_transformed_R_and_acc(R_and_acc_t)\n",
    "    # rt_runner.record_raw_imu(RB_and_acc_t)\n",
    "    if is_recording:\n",
    "        record_buffer = RB_and_acc_t.reshape(1, -1)\n",
    "    t = 1"
   ]
  },
  {
   "cell_type": "code",
   "execution_count": 18,
   "id": "revolutionary-mortality",
   "metadata": {},
   "outputs": [],
   "source": [
    "from tqdm.auto import tqdm"
   ]
  },
  {
   "cell_type": "code",
   "execution_count": 19,
   "id": "following-actor",
   "metadata": {},
   "outputs": [
    {
     "data": {
      "application/vnd.jupyter.widget-view+json": {
       "model_id": "8ee289014b6e401daaf24e8768d32045",
       "version_major": 2,
       "version_minor": 0
      },
      "text/plain": [
       "HBox(children=(HTML(value=''), FloatProgress(value=0.0, max=3687.0), HTML(value='')))"
      ]
     },
     "metadata": {},
     "output_type": "display_data"
    },
    {
     "name": "stdout",
     "output_type": "stream",
     "text": [
      "\n",
      "Finish.\n"
     ]
    }
   ],
   "source": [
    "    pred_poses = []\n",
    "\n",
    "#     while running:\n",
    "    for i in tqdm(range(len(offline_imu_set))):\n",
    "#         print(t, clock.get_time())\n",
    "        \n",
    "#         RB_and_acc_t = get_transformed_current_reading()\n",
    "        RB_and_acc_t = get_transformed_current_reading(offline_imu_set, clock)\n",
    "\n",
    "        # t does not matter, not used\n",
    "        res = rt_runner.step(RB_and_acc_t, last_root_pos, s_gt=None, c_gt=None, t=t)\n",
    "\n",
    "        last_root_pos = res['qdq'][:3]\n",
    "\n",
    "        viz_locs = res['viz_locs']\n",
    "        for sbp_i in range(viz_locs.shape[0]):\n",
    "            viz_point(viz_locs[sbp_i, :], sbp_i)\n",
    "            \n",
    "        pred_poses.append(res)\n",
    "\n",
    "#        ## show terrain \n",
    "#         if t % 15 == 0 and h_id is not None:\n",
    "#             # TODO: double for loop...\n",
    "#             for ii in range(init_grid_np.shape[0]):\n",
    "#                 for jj in range(init_grid_np.shape[1]):\n",
    "#                     init_grid_list[jj * init_grid_np.shape[0] + ii] = \\\n",
    "#                         rt_runner.region_height_list[rt_runner.height_region_map[ii, jj]]\n",
    "#             h_id, h_b_id = update_height_field_pb(\n",
    "#                 pb_c,\n",
    "#                 h_data=init_grid_list,\n",
    "#                 scale=cst.GRID_SIZE,\n",
    "#                 terrainShape=h_id,\n",
    "#                 terrain=h_b_id\n",
    "#             )\n",
    "\n",
    "        clock.tick(FREQ)\n",
    "\n",
    "        # print('\\r', R_G_Bt.reshape(6,9), acc_G_t, end='')\n",
    "\n",
    "        t += 1\n",
    "#         # recording\n",
    "#         if is_recording:\n",
    "#             record_buffer = np.concatenate([record_buffer, RB_and_acc_t.reshape(1, -1)], axis=0)\n",
    "\n",
    "#             if t % (FREQ * 15) == 0:\n",
    "#                 with open('../imu_recordings/r' + datetime.now().strftime('%m:%d:%T').replace(':', '-') + '.pkl',\n",
    "#                           \"wb\") as handle:\n",
    "#                     pickle.dump(\n",
    "#                         {\"imu\": record_buffer, \"qdq_init\": s_init_T_pose},\n",
    "#                         handle,\n",
    "#                         protocol=pickle.HIGHEST_PROTOCOL\n",
    "#                     )\n",
    "\n",
    "    print('Finish.')"
   ]
  },
  {
   "cell_type": "code",
   "execution_count": 21,
   "id": "hundred-conflict",
   "metadata": {},
   "outputs": [],
   "source": [
    "import pickle\n",
    "\n",
    "with open(\"pred_offline.pickle\", \"wb\") as f:\n",
    "    pickle.dump(pred_poses, f)"
   ]
  },
  {
   "cell_type": "code",
   "execution_count": 22,
   "id": "bigger-approach",
   "metadata": {},
   "outputs": [
    {
     "data": {
      "text/plain": [
       "3687"
      ]
     },
     "execution_count": 22,
     "metadata": {},
     "output_type": "execute_result"
    }
   ],
   "source": [
    "len(pred_poses)"
   ]
  },
  {
   "cell_type": "code",
   "execution_count": 24,
   "id": "potential-memphis",
   "metadata": {},
   "outputs": [
    {
     "data": {
      "text/plain": [
       "dict_keys(['qdq', 'viz_locs', 'ct'])"
      ]
     },
     "execution_count": 24,
     "metadata": {},
     "output_type": "execute_result"
    }
   ],
   "source": [
    "pred_poses[0].keys()"
   ]
  },
  {
   "cell_type": "code",
   "execution_count": null,
   "id": "superb-vermont",
   "metadata": {},
   "outputs": [],
   "source": []
  }
 ],
 "metadata": {
  "kernelspec": {
   "display_name": "Python 3",
   "language": "python",
   "name": "python3"
  },
  "language_info": {
   "codemirror_mode": {
    "name": "ipython",
    "version": 3
   },
   "file_extension": ".py",
   "mimetype": "text/x-python",
   "name": "python",
   "nbconvert_exporter": "python",
   "pygments_lexer": "ipython3",
   "version": "3.8.8"
  }
 },
 "nbformat": 4,
 "nbformat_minor": 5
}
