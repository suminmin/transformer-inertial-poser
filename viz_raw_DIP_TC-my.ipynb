{
 "cells": [
  {
   "cell_type": "code",
   "execution_count": 1,
   "metadata": {},
   "outputs": [],
   "source": [
    "# !pip install pybullet\n",
    "# !pip install einops\n",
    "# !pip install tqdm\n",
    "\n",
    "# !conda install -c conda-forge ipywidgets\n",
    "# !pip install jupyter_contrib_nbextensions\n",
    "# !jupyter nbextension enable --py widgetsnbextension"
   ]
  },
  {
   "cell_type": "code",
   "execution_count": 1,
   "metadata": {},
   "outputs": [
    {
     "name": "stdout",
     "output_type": "stream",
     "text": [
      "[SimAgent] Creating an agent... data/amass.urdf\n",
      "warning: path existed\n",
      "data/source/TotalCapture\\s1\\acting1_poses.npz data/source/TotalCapture_60FPS_Original/TotalCapture\\s1_acting1.pkl\n",
      "data/preprocessed_TotalCapture_v1/tcimu_TotalCapture\\s1_acting1.pkl\n",
      "already generated\n",
      "data/source/TotalCapture\\s1\\acting2_poses.npz data/source/TotalCapture_60FPS_Original/TotalCapture\\s1_acting2.pkl\n",
      "data/preprocessed_TotalCapture_v1/tcimu_TotalCapture\\s1_acting2.pkl\n",
      "already generated\n",
      "data/source/TotalCapture\\s1\\acting3_poses.npz data/source/TotalCapture_60FPS_Original/TotalCapture\\s1_acting3.pkl\n",
      "data/preprocessed_TotalCapture_v1/tcimu_TotalCapture\\s1_acting3.pkl\n",
      "already generated\n",
      "data/source/TotalCapture\\s1\\freestyle1_poses.npz data/source/TotalCapture_60FPS_Original/TotalCapture\\s1_freestyle1.pkl\n",
      "data/preprocessed_TotalCapture_v1/tcimu_TotalCapture\\s1_freestyle1.pkl\n",
      "already generated\n",
      "data/source/TotalCapture\\s1\\freestyle2_poses.npz data/source/TotalCapture_60FPS_Original/TotalCapture\\s1_freestyle2.pkl\n",
      "data/preprocessed_TotalCapture_v1/tcimu_TotalCapture\\s1_freestyle2.pkl\n",
      "already generated\n",
      "data/source/TotalCapture\\s1\\freestyle3_poses.npz data/source/TotalCapture_60FPS_Original/TotalCapture\\s1_freestyle3.pkl\n",
      "data/preprocessed_TotalCapture_v1/tcimu_TotalCapture\\s1_freestyle3.pkl\n",
      "already generated\n",
      "data/source/TotalCapture\\s1\\rom1_poses.npz data/source/TotalCapture_60FPS_Original/TotalCapture\\s1_rom1.pkl\n",
      "data/preprocessed_TotalCapture_v1/tcimu_TotalCapture\\s1_rom1.pkl\n",
      "already generated\n",
      "data/source/TotalCapture\\s1\\rom2_poses.npz data/source/TotalCapture_60FPS_Original/TotalCapture\\s1_rom2.pkl\n",
      "data/preprocessed_TotalCapture_v1/tcimu_TotalCapture\\s1_rom2.pkl\n",
      "already generated\n",
      "data/source/TotalCapture\\s1\\rom3_poses.npz data/source/TotalCapture_60FPS_Original/TotalCapture\\s1_rom3.pkl\n",
      "data/preprocessed_TotalCapture_v1/tcimu_TotalCapture\\s1_rom3.pkl\n",
      "already generated\n",
      "data/source/TotalCapture\\s1\\walking1_poses.npz data/source/TotalCapture_60FPS_Original/TotalCapture\\s1_walking1.pkl\n",
      "data/preprocessed_TotalCapture_v1/tcimu_TotalCapture\\s1_walking1.pkl\n",
      "already generated\n",
      "data/source/TotalCapture\\s1\\walking2_poses.npz data/source/TotalCapture_60FPS_Original/TotalCapture\\s1_walking2.pkl\n",
      "data/preprocessed_TotalCapture_v1/tcimu_TotalCapture\\s1_walking2.pkl\n",
      "already generated\n",
      "data/source/TotalCapture\\s1\\walking3_poses.npz data/source/TotalCapture_60FPS_Original/TotalCapture\\s1_walking3.pkl\n",
      "data/preprocessed_TotalCapture_v1/tcimu_TotalCapture\\s1_walking3.pkl\n",
      "already generated\n",
      "data/source/TotalCapture\\s2\\acting1_poses.npz data/source/TotalCapture_60FPS_Original/TotalCapture\\s2_acting1.pkl\n",
      "data/preprocessed_TotalCapture_v1/tcimu_TotalCapture\\s2_acting1.pkl\n",
      "already generated\n",
      "data/source/TotalCapture\\s2\\acting2_poses.npz data/source/TotalCapture_60FPS_Original/TotalCapture\\s2_acting2.pkl\n",
      "data/preprocessed_TotalCapture_v1/tcimu_TotalCapture\\s2_acting2.pkl\n",
      "already generated\n",
      "data/source/TotalCapture\\s2\\acting3_poses.npz data/source/TotalCapture_60FPS_Original/TotalCapture\\s2_acting3.pkl\n",
      "data/preprocessed_TotalCapture_v1/tcimu_TotalCapture\\s2_acting3.pkl\n",
      "already generated\n",
      "data/source/TotalCapture\\s2\\freestyle2_poses.npz data/source/TotalCapture_60FPS_Original/TotalCapture\\s2_freestyle2.pkl\n",
      "data/preprocessed_TotalCapture_v1/tcimu_TotalCapture\\s2_freestyle2.pkl\n",
      "already generated\n",
      "data/source/TotalCapture\\s2\\rom1_poses.npz data/source/TotalCapture_60FPS_Original/TotalCapture\\s2_rom1.pkl\n",
      "data/preprocessed_TotalCapture_v1/tcimu_TotalCapture\\s2_rom1.pkl\n",
      "already generated\n",
      "data/source/TotalCapture\\s2\\rom2_poses.npz data/source/TotalCapture_60FPS_Original/TotalCapture\\s2_rom2.pkl\n",
      "data/preprocessed_TotalCapture_v1/tcimu_TotalCapture\\s2_rom2.pkl\n",
      "already generated\n",
      "data/source/TotalCapture\\s2\\rom3_poses.npz data/source/TotalCapture_60FPS_Original/TotalCapture\\s2_rom3.pkl\n",
      "data/preprocessed_TotalCapture_v1/tcimu_TotalCapture\\s2_rom3.pkl\n",
      "already generated\n",
      "data/source/TotalCapture\\s2\\walking1_poses.npz data/source/TotalCapture_60FPS_Original/TotalCapture\\s2_walking1.pkl\n",
      "data/preprocessed_TotalCapture_v1/tcimu_TotalCapture\\s2_walking1.pkl\n",
      "already generated\n",
      "data/source/TotalCapture\\s2\\walking2_poses.npz data/source/TotalCapture_60FPS_Original/TotalCapture\\s2_walking2.pkl\n",
      "data/preprocessed_TotalCapture_v1/tcimu_TotalCapture\\s2_walking2.pkl\n",
      "already generated\n",
      "data/source/TotalCapture\\s2\\walking3_poses.npz data/source/TotalCapture_60FPS_Original/TotalCapture\\s2_walking3.pkl\n",
      "data/preprocessed_TotalCapture_v1/tcimu_TotalCapture\\s2_walking3.pkl\n",
      "already generated\n",
      "data/source/TotalCapture\\s3\\acting2_poses.npz data/source/TotalCapture_60FPS_Original/TotalCapture\\s3_acting2.pkl\n",
      "data/preprocessed_TotalCapture_v1/tcimu_TotalCapture\\s3_acting2.pkl\n",
      "already generated\n",
      "data/source/TotalCapture\\s3\\rom1_poses.npz data/source/TotalCapture_60FPS_Original/TotalCapture\\s3_rom1.pkl\n",
      "data/preprocessed_TotalCapture_v1/tcimu_TotalCapture\\s3_rom1.pkl\n",
      "already generated\n",
      "data/source/TotalCapture\\s3\\rom2_poses.npz data/source/TotalCapture_60FPS_Original/TotalCapture\\s3_rom2.pkl\n",
      "data/preprocessed_TotalCapture_v1/tcimu_TotalCapture\\s3_rom2.pkl\n",
      "already generated\n",
      "data/source/TotalCapture\\s3\\rom3_poses.npz data/source/TotalCapture_60FPS_Original/TotalCapture\\s3_rom3.pkl\n",
      "data/preprocessed_TotalCapture_v1/tcimu_TotalCapture\\s3_rom3.pkl\n",
      "already generated\n",
      "data/source/TotalCapture\\s3\\walking1_poses.npz data/source/TotalCapture_60FPS_Original/TotalCapture\\s3_walking1.pkl\n",
      "data/preprocessed_TotalCapture_v1/tcimu_TotalCapture\\s3_walking1.pkl\n",
      "already generated\n",
      "data/source/TotalCapture\\s3\\walking2_poses.npz data/source/TotalCapture_60FPS_Original/TotalCapture\\s3_walking2.pkl\n",
      "data/preprocessed_TotalCapture_v1/tcimu_TotalCapture\\s3_walking2.pkl\n",
      "already generated\n",
      "data/source/TotalCapture\\s3\\walking3_poses.npz data/source/TotalCapture_60FPS_Original/TotalCapture\\s3_walking3.pkl\n",
      "data/preprocessed_TotalCapture_v1/tcimu_TotalCapture\\s3_walking3.pkl\n",
      "already generated\n",
      "data/source/TotalCapture\\s4\\freestyle1_poses.npz data/source/TotalCapture_60FPS_Original/TotalCapture\\s4_freestyle1.pkl\n",
      "data/preprocessed_TotalCapture_v1/tcimu_TotalCapture\\s4_freestyle1.pkl\n",
      "already generated\n",
      "data/source/TotalCapture\\s4\\freestyle3_poses.npz data/source/TotalCapture_60FPS_Original/TotalCapture\\s4_freestyle3.pkl\n",
      "data/preprocessed_TotalCapture_v1/tcimu_TotalCapture\\s4_freestyle3.pkl\n",
      "already generated\n",
      "data/source/TotalCapture\\s4\\rom3_poses.npz data/source/TotalCapture_60FPS_Original/TotalCapture\\s4_rom3.pkl\n",
      "data/preprocessed_TotalCapture_v1/tcimu_TotalCapture\\s4_rom3.pkl\n",
      "already generated\n",
      "data/source/TotalCapture\\s4\\walking2_poses.npz data/source/TotalCapture_60FPS_Original/TotalCapture\\s4_walking2.pkl\n",
      "data/preprocessed_TotalCapture_v1/tcimu_TotalCapture\\s4_walking2.pkl\n",
      "already generated\n",
      "count  33\n"
     ]
    }
   ],
   "source": [
    "import importlib.util\n",
    "import pybullet_data\n",
    "import scipy\n",
    "import sys\n",
    "import pybullet as pb\n",
    "import numpy as np\n",
    "\n",
    "from fairmotion.ops import conversions\n",
    "from fairmotion.core.motion import Motion\n",
    "\n",
    "import bullet_client\n",
    "from data_utils import draw_ori\n",
    "from preprocess_DIP_TC_new import load_and_augment_dip_motion\n",
    "from bullet_agent import SimAgent\n",
    "import constants as cst"
   ]
  },
  {
   "cell_type": "code",
   "execution_count": 10,
   "metadata": {},
   "outputs": [],
   "source": [
    "DT = 1. / 60\n",
    "acc_fd_N = 4\n",
    "DT_FIN_ACC = DT * acc_fd_N\n",
    "WIN_LEN = 11\n",
    "NOMINAL_H = 1.7\n",
    "rot_up_R = cst.rot_up_R\n",
    "\n",
    "np.set_printoptions(threshold=sys.maxsize)\n",
    "np.set_printoptions(suppress=True)\n",
    "\n",
    "motion_name_imu = 'data/source/TotalCapture_60FPS_Original/TotalCapture/s1_freestyle3.pkl'\n",
    "motion_name_gt = 'data/source/TotalCapture/s1/freestyle3_poses.npz'\n",
    "# motion_name_gt = motion_name_imu = 'data/source/DIP_IMU/s_01/03.pkl'\n",
    "# motion_name_gt = motion_name_imu = 'data/source/DIP_IMU/s_10/05.pkl'\n",
    "\n",
    "ROOT_COM_OFFSET = np.array([0.0, 0.1, -0.1])        # 0.1m up, -0.1m back\n",
    "# 1 TC, 0 DIP\n",
    "if 1:\n",
    "    ROT_MAT = conversions.A2R(np.array([np.pi / 2, 0, 0]))\n",
    "else:\n",
    "    ROT_MAT = rot_up_R"
   ]
  },
  {
   "cell_type": "code",
   "execution_count": 11,
   "metadata": {},
   "outputs": [],
   "source": [
    "import pickle"
   ]
  },
  {
   "cell_type": "code",
   "execution_count": 14,
   "metadata": {},
   "outputs": [],
   "source": [
    "def load(name):\n",
    "    if name.endswith(\"npz\"):\n",
    "        data = np.load(name)\n",
    "    elif name.endswith(\"pkl\"):\n",
    "        with open(name, \"rb\") as f:\n",
    "            data = pickle.load(f, encoding=\"latin1\")\n",
    "    else:\n",
    "        assert False\n",
    "\n",
    "    return data"
   ]
  },
  {
   "cell_type": "code",
   "execution_count": 17,
   "metadata": {},
   "outputs": [],
   "source": [
    "data_imu = load(motion_name_imu)"
   ]
  },
  {
   "cell_type": "code",
   "execution_count": 20,
   "metadata": {},
   "outputs": [
    {
     "data": {
      "text/plain": [
       "((2039, 6, 3), (2039, 72), (2039, 6, 3, 3))"
      ]
     },
     "execution_count": 20,
     "metadata": {},
     "output_type": "execute_result"
    }
   ],
   "source": [
    "data_imu.keys()\n",
    "data_imu[\"acc\"].shape, data_imu[\"gt\"].shape, data_imu[\"ori\"].shape"
   ]
  },
  {
   "cell_type": "code",
   "execution_count": null,
   "metadata": {},
   "outputs": [],
   "source": []
  }
 ],
 "metadata": {
  "kernelspec": {
   "display_name": "pytorch160",
   "language": "python",
   "name": "python3"
  },
  "language_info": {
   "codemirror_mode": {
    "name": "ipython",
    "version": 3
   },
   "file_extension": ".py",
   "mimetype": "text/x-python",
   "name": "python",
   "nbconvert_exporter": "python",
   "pygments_lexer": "ipython3",
   "version": "3.7.16"
  },
  "orig_nbformat": 4,
  "vscode": {
   "interpreter": {
    "hash": "f074482ff430fd4c38e92e2653b04c345388ddd8ad5ac2de0ec516ea0881029f"
   }
  }
 },
 "nbformat": 4,
 "nbformat_minor": 2
}
